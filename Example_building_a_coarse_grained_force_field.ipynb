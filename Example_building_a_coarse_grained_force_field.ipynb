{
 "cells": [
  {
   "cell_type": "code",
   "execution_count": 1,
   "id": "optical-chapter",
   "metadata": {},
   "outputs": [],
   "source": [
    "# assume you have openmm, pdbfixer and mdtraj installed.\n",
    "# if not, you can follow the gudie here https://github.com/npschafer/openawsem"
   ]
  },
  {
   "cell_type": "code",
   "execution_count": 2,
   "id": "afraid-belle",
   "metadata": {},
   "outputs": [],
   "source": [
    "# import all using lines below\n",
    "\n",
    "# from simtk.openmm.app import *\n",
    "# from simtk.openmm import *\n",
    "# from simtk.unit import *"
   ]
  },
  {
   "cell_type": "code",
   "execution_count": 3,
   "id": "funny-approval",
   "metadata": {},
   "outputs": [],
   "source": [
    "from simtk.openmm.app import ForceField\n",
    "# define atoms and residues.\n",
    "forcefield = ForceField(\"cg.xml\")"
   ]
  },
  {
   "cell_type": "code",
   "execution_count": 4,
   "id": "center-guatemala",
   "metadata": {},
   "outputs": [],
   "source": [
    "from pdbfixer import PDBFixer\n",
    "from simtk.openmm.app import PDBFile\n",
    "\n",
    "fixer = PDBFixer(\"1r69.pdb\")\n",
    "# more on pdbfixer, check:\n",
    "# https://htmlpreview.github.io/?https://github.com/openmm/pdbfixer/blob/master/Manual.html\n",
    "fixer.removeHeterogens(keepWater=False)\n",
    "PDBFile.writeFile(fixer.topology, fixer.positions, open('1r69_cleaned.pdb', 'w'))"
   ]
  },
  {
   "cell_type": "code",
   "execution_count": 5,
   "id": "substantial-forward",
   "metadata": {},
   "outputs": [],
   "source": [
    "import mdtraj\n",
    "pdb = mdtraj.load(\"1r69_cleaned.pdb\")\n",
    "keep_list = []\n",
    "for atom in pdb.topology.atoms:\n",
    "    if atom.name == \"CA\":\n",
    "        keep_list.append(atom.index)\n",
    "chosen = pdb.atom_slice(keep_list)\n",
    "chosen.save(\"ca_only.pdb\")"
   ]
  },
  {
   "cell_type": "code",
   "execution_count": 6,
   "id": "unexpected-insured",
   "metadata": {},
   "outputs": [],
   "source": [
    "from simtk.openmm import HarmonicBondForce\n",
    "def connect_term(system):\n",
    "    k_con= 10000\n",
    "    con = HarmonicBondForce()\n",
    "    n = system.getNumParticles()\n",
    "    for i in range(n-1):\n",
    "        con.addBond(i, i+1, 0.3816, k_con)\n",
    "    return con\n",
    "\n",
    "from simtk.openmm import CustomBondForce\n",
    "def connect_term_v2(system):\n",
    "    k_con= 10000\n",
    "    r0 = 0.3816\n",
    "    con = CustomBondForce(f\"0.5*{k_con}*(r-r0)^2\")\n",
    "    n = system.getNumParticles()\n",
    "    con.addPerBondParameter(\"r0\")\n",
    "    for i in range(n-1):\n",
    "        con.addBond(i, i+1, [r0])\n",
    "    return con\n",
    "\n",
    "from simtk.openmm import CustomCompoundBondForce\n",
    "def connect_term_v3(system):\n",
    "    k_con= 10000\n",
    "    r0 = 0.3816\n",
    "    con = CustomCompoundBondForce(2, f\"0.5*{k_con}*(distance(p1,p2)-r0)^2\")\n",
    "    n = system.getNumParticles()\n",
    "    con.addPerBondParameter(\"r0\")\n",
    "    for i in range(n-1):\n",
    "        con.addBond([i, i+1], [r0])\n",
    "    return con"
   ]
  },
  {
   "cell_type": "code",
   "execution_count": null,
   "id": "dramatic-trouble",
   "metadata": {},
   "outputs": [],
   "source": []
  },
  {
   "cell_type": "code",
   "execution_count": null,
   "id": "medium-devices",
   "metadata": {},
   "outputs": [],
   "source": []
  },
  {
   "cell_type": "code",
   "execution_count": 7,
   "id": "demonstrated-employee",
   "metadata": {},
   "outputs": [],
   "source": [
    "# contact map\n",
    "import numpy as np\n",
    "from simtk.unit import *\n",
    "\n",
    "pdb = PDBFile(\"ca_only.pdb\")\n",
    "pos = pdb.positions.value_in_unit(nanometer)\n",
    "pos = np.array(pos)\n",
    "dis = (((pos.reshape(1, -1, 3) - pos.reshape(-1, 1, 3))**2).sum(axis=-1))**0.5"
   ]
  },
  {
   "cell_type": "code",
   "execution_count": 8,
   "id": "caroline-basin",
   "metadata": {},
   "outputs": [],
   "source": [
    "import matplotlib.pylab as plt\n",
    "%matplotlib inline"
   ]
  },
  {
   "cell_type": "code",
   "execution_count": 9,
   "id": "reserved-arcade",
   "metadata": {},
   "outputs": [
    {
     "data": {
      "text/plain": [
       "<matplotlib.colorbar.Colorbar at 0x7fc4ac8fc710>"
      ]
     },
     "execution_count": 9,
     "metadata": {},
     "output_type": "execute_result"
    },
    {
     "data": {
      "image/png": "[encoded data removed]",
      "text/plain": [
       "<Figure size 720x720 with 2 Axes>"
      ]
     },
     "metadata": {
      "needs_background": "light"
     },
     "output_type": "display_data"
    }
   ],
   "source": [
    "plt.figure(figsize=[10,10])\n",
    "plt.imshow(dis < 0.8, origin=\"lower\")\n",
    "plt.colorbar()"
   ]
  },
  {
   "cell_type": "code",
   "execution_count": 10,
   "id": "alternative-imperial",
   "metadata": {},
   "outputs": [],
   "source": [
    "n = dis.shape[0]\n",
    "contact_threshold = 0.8 # in unit of nm\n",
    "contact_list = []\n",
    "for i in range(n):\n",
    "    for j in range(i+1, n):\n",
    "        dis_ij = dis[i][j]\n",
    "        if dis_ij < contact_threshold:\n",
    "            sigma_ij = 0.1*(j-i)**0.15\n",
    "            contact_list.append((i, j, (dis_ij, sigma_ij)))"
   ]
  },
  {
   "cell_type": "code",
   "execution_count": 11,
   "id": "developmental-recognition",
   "metadata": {},
   "outputs": [
    {
     "data": {
      "text/plain": [
       "275"
      ]
     },
     "execution_count": 11,
     "metadata": {},
     "output_type": "execute_result"
    }
   ],
   "source": [
    "len(contact_list)"
   ]
  },
  {
   "cell_type": "code",
   "execution_count": 12,
   "id": "official-intake",
   "metadata": {},
   "outputs": [],
   "source": [
    "from simtk.openmm import CustomBondForce\n",
    "def structure_based_term(contact_list):\n",
    "    k = 10\n",
    "    structure_based = CustomBondForce(f\"-{k}*exp(-(r-r_ijN)^2/(2*sigma_ij^2))\")\n",
    "#     structure_based = CustomBondForce(f\"-{k}\")\n",
    "    structure_based.addPerBondParameter(\"r_ijN\")\n",
    "    structure_based.addPerBondParameter(\"sigma_ij\")\n",
    "    for contact in contact_list:\n",
    "        structure_based.addBond(*contact)\n",
    "    return structure_based"
   ]
  },
  {
   "cell_type": "code",
   "execution_count": 13,
   "id": "tamil-offset",
   "metadata": {},
   "outputs": [
    {
     "name": "stdout",
     "output_type": "stream",
     "text": [
      "<Topology; 1 chains, 63 residues, 63 atoms, 0 bonds>\n",
      "Number of particles:  63\n",
      "Number of forces:  2\n"
     ]
    }
   ],
   "source": [
    "from simtk.openmm import LangevinIntegrator\n",
    "from simtk.openmm import CustomIntegrator\n",
    "from simtk.openmm.app import Simulation\n",
    "from simtk.openmm.app import PDBReporter\n",
    "from simtk.openmm.app import StateDataReporter\n",
    "from simtk.openmm.app import DCDReporter\n",
    "from sys import stdout\n",
    "\n",
    "\n",
    "pdb = PDBFile(\"ca_only.pdb\")\n",
    "forcefield = ForceField(\"cg.xml\")\n",
    "\n",
    "print(pdb.topology)\n",
    "\n",
    "system = forcefield.createSystem(pdb.topology)\n",
    "system.removeForce(0)   # remove the default force \"CMotionRemover\"\n",
    "# connect = connect_term(system)\n",
    "# system.addForce(connect)\n",
    "\n",
    "# connect = connect_term_v2(system)\n",
    "# system.addForce(connect)\n",
    "\n",
    "connect = connect_term_v3(system)\n",
    "system.addForce(connect)\n",
    "\n",
    "structure_based = structure_based_term(contact_list)\n",
    "system.addForce(structure_based)\n",
    "\n",
    "print(\"Number of particles: \", system.getNumParticles())\n",
    "print(\"Number of forces: \", system.getNumForces())\n",
    "\n",
    "integrator = LangevinIntegrator(300*kelvin, 1/picosecond, 0.004*picoseconds)\n",
    "simulation = Simulation(pdb.topology, system, integrator)\n",
    "simulation.context.setPositions(pdb.positions)"
   ]
  },
  {
   "cell_type": "code",
   "execution_count": 14,
   "id": "dried-tattoo",
   "metadata": {},
   "outputs": [
    {
     "name": "stdout",
     "output_type": "stream",
     "text": [
      "#\"Step\",\"Potential Energy (kJ/mole)\",\"Temperature (K)\"\n",
      "1000,-2470.588134765625,265.3972095571674\n",
      "2000,-2475.900390625,352.0954418361503\n",
      "3000,-2447.06787109375,324.6016153903199\n",
      "4000,-2443.67724609375,329.38365665470707\n",
      "5000,-2472.291015625,311.95841512357555\n",
      "6000,-2473.103759765625,354.3896434047219\n",
      "7000,-2504.68701171875,232.2963285718921\n",
      "8000,-2421.172607421875,318.1490746045123\n",
      "9000,-2506.325439453125,311.90592414121977\n",
      "10000,-2461.337890625,332.81687894573935\n"
     ]
    }
   ],
   "source": [
    "simulation.reporters.append(PDBReporter('output.pdb', 1000))\n",
    "simulation.reporters.append(StateDataReporter(stdout, 1000, step=True,\n",
    "        potentialEnergy=True, temperature=True))\n",
    "simulation.step(10000)"
   ]
  },
  {
   "cell_type": "code",
   "execution_count": 15,
   "id": "drawn-intensity",
   "metadata": {},
   "outputs": [
    {
     "name": "stdout",
     "output_type": "stream",
     "text": [
      "#\"Step\",\"Potential Energy (kJ/mole)\",\"Temperature (K)\"\n",
      "1,-2749.25732421875,0.0\n",
      "2,-2749.87255859375,0.0\n",
      "#\"Step\",\"Potential Energy (kJ/mole)\",\"Temperature (K)\"\n",
      "1000,-2507.495361328125,304.4992072527908\n",
      "2000,-2500.489501953125,312.70488546326226\n",
      "3000,-2472.176513671875,292.76087883875005\n",
      "4000,-2527.055419921875,314.59933267693776\n",
      "5000,-2477.698486328125,298.6544357930838\n",
      "6000,-2480.50732421875,247.62469027800051\n",
      "7000,-2532.085205078125,341.49360963315706\n",
      "8000,-2523.2939453125,335.394943970924\n",
      "9000,-2519.30224609375,313.3308482276988\n",
      "10000,-2456.395751953125,330.1487977186053\n"
     ]
    }
   ],
   "source": [
    "integrator = CustomIntegrator(0.001)\n",
    "simulation = Simulation(pdb.topology, system, integrator)\n",
    "simulation.context.setPositions(pdb.positions)\n",
    "simulation.reporters.append(DCDReporter('output.dcd', 1))\n",
    "simulation.reporters.append(StateDataReporter(stdout, 1, step=True,\n",
    "        potentialEnergy=True, temperature=True))\n",
    "simulation.step(int(1))\n",
    "simulation.minimizeEnergy()\n",
    "simulation.step(int(1))\n",
    "\n",
    "integrator = LangevinIntegrator(300*kelvin, 1/picosecond, 0.004*picoseconds)\n",
    "simulation = Simulation(pdb.topology, system, integrator)\n",
    "simulation.context.setPositions(pdb.positions)\n",
    "simulation.reporters.append(DCDReporter('output.dcd', 1000, append=True))\n",
    "simulation.reporters.append(StateDataReporter(stdout, 1000, step=True,\n",
    "        potentialEnergy=True, temperature=True))\n",
    "simulation.step(10000)"
   ]
  },
  {
   "cell_type": "code",
   "execution_count": 16,
   "id": "residential-subject",
   "metadata": {},
   "outputs": [
    {
     "data": {
      "application/vnd.jupyter.widget-view+json": {
       "model_id": "1580caf75d2541ad999827ba2c4fdd18",
       "version_major": 2,
       "version_minor": 0
      },
      "text/plain": []
     },
     "metadata": {},
     "output_type": "display_data"
    },
    {
     "data": {
      "application/vnd.jupyter.widget-view+json": {
       "model_id": "fd240eb7bea64e46bf85def2eadef0a5",
       "version_major": 2,
       "version_minor": 0
      },
      "text/plain": [
       "NGLWidget()"
      ]
     },
     "metadata": {},
     "output_type": "display_data"
    }
   ],
   "source": [
    "# conda install nglview -c conda-forge\n",
    "# jupyter-nbextension enable nglview --py --sys-prefix\n",
    "import nglview\n",
    "view = nglview.show_pdbid(\"1r69\")  # load \"3pqr\" from RCSB PDB and display viewer widget\n",
    "view"
   ]
  },
  {
   "cell_type": "code",
   "execution_count": 17,
   "id": "alternative-engine",
   "metadata": {},
   "outputs": [
    {
     "data": {
      "application/vnd.jupyter.widget-view+json": {
       "model_id": "50a4c57322bd4adf80250dd4253b5962",
       "version_major": 2,
       "version_minor": 0
      },
      "text/plain": [
       "NGLWidget()"
      ]
     },
     "metadata": {},
     "output_type": "display_data"
    }
   ],
   "source": [
    "view = nglview.show_structure_file(\"ca_only.pdb\")\n",
    "view"
   ]
  },
  {
   "cell_type": "code",
   "execution_count": 18,
   "id": "incorporate-moore",
   "metadata": {},
   "outputs": [],
   "source": [
    "traj = mdtraj.load_dcd(\"output.dcd\", top=\"ca_only.pdb\")"
   ]
  },
  {
   "cell_type": "code",
   "execution_count": 19,
   "id": "balanced-contribution",
   "metadata": {},
   "outputs": [
    {
     "data": {
      "application/vnd.jupyter.widget-view+json": {
       "model_id": "0a6cc06a959c481b816df402bd1e1342",
       "version_major": 2,
       "version_minor": 0
      },
      "text/plain": [
       "NGLWidget(max_frame=11)"
      ]
     },
     "metadata": {},
     "output_type": "display_data"
    }
   ],
   "source": [
    "view = nglview.show_mdtraj(traj)\n",
    "view"
   ]
  },
  {
   "cell_type": "code",
   "execution_count": 20,
   "id": "portable-copying",
   "metadata": {},
   "outputs": [],
   "source": [
    "# Input: expects 3xN matrix of points\n",
    "# Returns R,t\n",
    "# R = 3x3 rotation matrix\n",
    "# t = 3x1 column vector\n",
    "\n",
    "def rigid_transform_3D(A, B, correct_reflection=True):\n",
    "    assert A.shape == B.shape\n",
    "\n",
    "    num_rows, num_cols = A.shape\n",
    "    if num_rows != 3:\n",
    "        raise Exception(f\"matrix A is not 3xN, it is {num_rows}x{num_cols}\")\n",
    "\n",
    "    num_rows, num_cols = B.shape\n",
    "    if num_rows != 3:\n",
    "        raise Exception(f\"matrix B is not 3xN, it is {num_rows}x{num_cols}\")\n",
    "\n",
    "    # find mean column wise\n",
    "    centroid_A = np.mean(A, axis=1)\n",
    "    centroid_B = np.mean(B, axis=1)\n",
    "\n",
    "    # ensure centroids are 3x1\n",
    "    centroid_A = centroid_A.reshape(-1, 1)\n",
    "    centroid_B = centroid_B.reshape(-1, 1)\n",
    "\n",
    "    # subtract mean\n",
    "    Am = A - centroid_A\n",
    "    Bm = B - centroid_B\n",
    "\n",
    "    H = Am @ np.transpose(Bm)\n",
    "\n",
    "    # sanity check\n",
    "    #if linalg.matrix_rank(H) < 3:\n",
    "    #    raise ValueError(\"rank of H = {}, expecting 3\".format(linalg.matrix_rank(H)))\n",
    "\n",
    "    # find rotation\n",
    "    U, S, Vt = np.linalg.svd(H)\n",
    "    R = Vt.T @ U.T\n",
    "\n",
    "    # special reflection case\n",
    "    if np.linalg.det(R) < 0 and correct_reflection:\n",
    "        print(\"det(R) < R, reflection detected!, correcting for it ...\")\n",
    "        Vt[2,:] *= -1\n",
    "        R = Vt.T @ U.T\n",
    "\n",
    "    t = -R @ centroid_A + centroid_B\n",
    "\n",
    "    return R, t"
   ]
  },
  {
   "cell_type": "code",
   "execution_count": 21,
   "id": "hazardous-society",
   "metadata": {},
   "outputs": [],
   "source": [
    "target = traj.xyz[0].T\n",
    "n = traj.xyz.shape[0]\n",
    "for i in range(1, n):\n",
    "    current = traj.xyz[i].T\n",
    "    ret_R, ret_t = rigid_transform_3D(current, target, correct_reflection=False)\n",
    "    out = (ret_R@current) + ret_t\n",
    "    traj.xyz[i] = out.T.reshape(1, -1, 3)"
   ]
  },
  {
   "cell_type": "code",
   "execution_count": 22,
   "id": "previous-reason",
   "metadata": {},
   "outputs": [
    {
     "data": {
      "application/vnd.jupyter.widget-view+json": {
       "model_id": "4b1e7e4d32ad4548916e3f99e5e8dcdf",
       "version_major": 2,
       "version_minor": 0
      },
      "text/plain": [
       "NGLWidget(max_frame=11)"
      ]
     },
     "metadata": {},
     "output_type": "display_data"
    },
    {
     "data": {
      "application/vnd.jupyter.widget-view+json": {
       "model_id": "57c44baae43142feb2a530fdbcda8f7b",
       "version_major": 2,
       "version_minor": 0
      },
      "text/plain": [
       "Tab(children=(Box(children=(Box(children=(Box(children=(Label(value='step'), IntSlider(value=1, min=-100)), la…"
      ]
     },
     "metadata": {},
     "output_type": "display_data"
    }
   ],
   "source": [
    "view = nglview.show_mdtraj(traj, gui=True)\n",
    "view"
   ]
  },
  {
   "cell_type": "code",
   "execution_count": 23,
   "id": "nasty-participation",
   "metadata": {},
   "outputs": [
    {
     "name": "stdout",
     "output_type": "stream",
     "text": [
      "0 -2749.257 kJ/mol\n",
      "1 -2749.873 kJ/mol\n",
      "2 -2507.495 kJ/mol\n",
      "3 -2500.490 kJ/mol\n",
      "4 -2472.177 kJ/mol\n",
      "5 -2527.056 kJ/mol\n",
      "6 -2477.699 kJ/mol\n",
      "7 -2480.507 kJ/mol\n",
      "8 -2532.085 kJ/mol\n",
      "9 -2523.294 kJ/mol\n",
      "10 -2519.302 kJ/mol\n",
      "11 -2456.396 kJ/mol\n"
     ]
    }
   ],
   "source": [
    "# energy evaluation.\n",
    "pdb = PDBFile('ca_only.pdb')\n",
    "traj = mdtraj.load_dcd(\"output.dcd\", top='ca_only.pdb')\n",
    "\n",
    "integrator = CustomIntegrator(0.001)\n",
    "simulation = Simulation(pdb.topology, system, integrator)\n",
    "for frame in range(traj.n_frames):\n",
    "    simulation.context.setPositions(traj.openmm_positions(frame))\n",
    "    state = simulation.context.getState(getEnergy=True)\n",
    "    termEnergy = state.getPotentialEnergy().value_in_unit(kilojoule_per_mole)\n",
    "#     termEnergy = state.getPotentialEnergy()\n",
    "    print(frame, f\"{termEnergy:.3f} kJ/mol\")"
   ]
  },
  {
   "cell_type": "code",
   "execution_count": 24,
   "id": "continuous-ebony",
   "metadata": {},
   "outputs": [
    {
     "name": "stdout",
     "output_type": "stream",
     "text": [
      "Number of particles:  63\n",
      "Number of forces:  4\n"
     ]
    }
   ],
   "source": [
    "system = forcefield.createSystem(pdb.topology)\n",
    "system.removeForce(0)   # remove the default force \"CMotionRemover\"\n",
    "connect = connect_term(system)\n",
    "connect.setForceGroup(1)\n",
    "system.addForce(connect)\n",
    "\n",
    "connect = connect_term_v2(system)\n",
    "connect.setForceGroup(2)\n",
    "system.addForce(connect)\n",
    "\n",
    "connect = connect_term_v3(system)\n",
    "connect.setForceGroup(3)\n",
    "system.addForce(connect)\n",
    "\n",
    "structure_based = structure_based_term(contact_list)\n",
    "structure_based.setForceGroup(4)\n",
    "system.addForce(structure_based)\n",
    "\n",
    "print(\"Number of particles: \", system.getNumParticles())\n",
    "print(\"Number of forces: \", system.getNumForces())\n",
    "\n",
    "integrator = LangevinIntegrator(300*kelvin, 1/picosecond, 0.004*picoseconds)\n",
    "simulation = Simulation(pdb.topology, system, integrator)\n",
    "simulation.context.setPositions(pdb.positions)"
   ]
  },
  {
   "cell_type": "code",
   "execution_count": 25,
   "id": "composite-preserve",
   "metadata": {},
   "outputs": [],
   "source": [
    "force_groups = {\"con\":1, \"con_v2\":2, \"con_v3\":3, \"structure_based_term\":4}\n",
    "show_energy = [\"con\", \"con_v2\", \"con_v3\", \"structure_based_term\"]"
   ]
  },
  {
   "cell_type": "code",
   "execution_count": 26,
   "id": "published-death",
   "metadata": {},
   "outputs": [
    {
     "name": "stdout",
     "output_type": "stream",
     "text": [
      "frame          con            con_v2         con_v3         structure_based_term\n",
      "0              0.743          0.743          0.743          -2750.000      \n",
      "1              0.024          0.024          0.024          -2749.897      \n",
      "2              72.760         72.760         72.760         -2580.256      \n",
      "3              50.944         50.944         50.944         -2551.433      \n",
      "4              56.587         56.587         56.587         -2528.763      \n",
      "5              56.172         56.172         56.172         -2583.227      \n",
      "6              72.370         72.370         72.370         -2550.069      \n",
      "7              77.075         77.075         77.075         -2557.582      \n",
      "8              54.391         54.391         54.391         -2586.476      \n",
      "9              59.849         59.849         59.849         -2583.143      \n",
      "10             70.668         70.668         70.668         -2589.970      \n",
      "11             70.643         70.643         70.643         -2527.038      \n"
     ]
    }
   ],
   "source": [
    "integrator = CustomIntegrator(0.001)\n",
    "simulation = Simulation(pdb.topology, system, integrator)\n",
    "width = 15\n",
    "line = \"\".join([f\"{term:<15}\" for term in [\"frame\"] + show_energy])\n",
    "print(line)\n",
    "for frame in range(traj.n_frames):\n",
    "    simulation.context.setPositions(traj.openmm_positions(frame))\n",
    "    all_energy = []\n",
    "    for term in show_energy:\n",
    "        group = force_groups[term]\n",
    "        state = simulation.context.getState(getEnergy=True, groups={group})\n",
    "        termEnergy = state.getPotentialEnergy().value_in_unit(kilojoule_per_mole)\n",
    "        all_energy.append(termEnergy)\n",
    "    line = \"\".join([f\"{termEnergy:<15.3f}\" for termEnergy in all_energy])\n",
    "    print(f\"{frame:<15}{line}\")"
   ]
  },
  {
   "cell_type": "code",
   "execution_count": null,
   "id": "operational-swing",
   "metadata": {},
   "outputs": [],
   "source": []
  }
 ],
 "metadata": {
  "kernelspec": {
   "display_name": "Python 3",
   "language": "python",
   "name": "python3"
  },
  "language_info": {
   "codemirror_mode": {
    "name": "ipython",
    "version": 3
   },
   "file_extension": ".py",
   "mimetype": "text/x-python",
   "name": "python",
   "nbconvert_exporter": "python",
   "pygments_lexer": "ipython3",
   "version": "3.6.12"
  }
 },
 "nbformat": 4,
 "nbformat_minor": 5
}
